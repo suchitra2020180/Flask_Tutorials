{
  "nbformat": 4,
  "nbformat_minor": 0,
  "metadata": {
    "colab": {
      "provenance": [],
      "authorship_tag": "ABX9TyPK22PiAVNeBWd+30+oCXCe",
      "include_colab_link": true
    },
    "kernelspec": {
      "name": "python3",
      "display_name": "Python 3"
    },
    "language_info": {
      "name": "python"
    }
  },
  "cells": [
    {
      "cell_type": "markdown",
      "metadata": {
        "id": "view-in-github",
        "colab_type": "text"
      },
      "source": [
        "<a href=\"https://colab.research.google.com/github/suchitra2020180/Flask_Tutorials/blob/master/3_Render_different_pages.ipynb\" target=\"_parent\"><img src=\"https://colab.research.google.com/assets/colab-badge.svg\" alt=\"Open In Colab\"/></a>"
      ]
    },
    {
      "cell_type": "code",
      "execution_count": 1,
      "metadata": {
        "colab": {
          "base_uri": "https://localhost:8080/"
        },
        "id": "6-djyMene_Pu",
        "outputId": "2a4271e9-72f0-4aa1-dd2c-3ef82462bfca"
      },
      "outputs": [
        {
          "output_type": "stream",
          "name": "stdout",
          "text": [
            "Collecting Flask==3.0.0\n",
            "  Downloading flask-3.0.0-py3-none-any.whl (99 kB)\n",
            "\u001b[?25l     \u001b[90m━━━━━━━━━━━━━━━━━━━━━━━━━━━━━━━━━━━━━━━━\u001b[0m \u001b[32m0.0/99.7 kB\u001b[0m \u001b[31m?\u001b[0m eta \u001b[36m-:--:--\u001b[0m\r\u001b[2K     \u001b[91m━━━━━━━━━━━━━━━━━━━━━━━━━━━━━━━━━━━━\u001b[0m\u001b[91m╸\u001b[0m\u001b[90m━━━\u001b[0m \u001b[32m92.2/99.7 kB\u001b[0m \u001b[31m2.7 MB/s\u001b[0m eta \u001b[36m0:00:01\u001b[0m\r\u001b[2K     \u001b[90m━━━━━━━━━━━━━━━━━━━━━━━━━━━━━━━━━━━━━━━━\u001b[0m \u001b[32m99.7/99.7 kB\u001b[0m \u001b[31m2.0 MB/s\u001b[0m eta \u001b[36m0:00:00\u001b[0m\n",
            "\u001b[?25hCollecting pyngrok==7.1.2\n",
            "  Downloading pyngrok-7.1.2-py3-none-any.whl (22 kB)\n",
            "Requirement already satisfied: Werkzeug>=3.0.0 in /usr/local/lib/python3.10/dist-packages (from Flask==3.0.0) (3.0.2)\n",
            "Requirement already satisfied: Jinja2>=3.1.2 in /usr/local/lib/python3.10/dist-packages (from Flask==3.0.0) (3.1.3)\n",
            "Requirement already satisfied: itsdangerous>=2.1.2 in /usr/local/lib/python3.10/dist-packages (from Flask==3.0.0) (2.2.0)\n",
            "Requirement already satisfied: click>=8.1.3 in /usr/local/lib/python3.10/dist-packages (from Flask==3.0.0) (8.1.7)\n",
            "Collecting blinker>=1.6.2 (from Flask==3.0.0)\n",
            "  Downloading blinker-1.7.0-py3-none-any.whl (13 kB)\n",
            "Requirement already satisfied: PyYAML>=5.1 in /usr/local/lib/python3.10/dist-packages (from pyngrok==7.1.2) (6.0.1)\n",
            "Requirement already satisfied: MarkupSafe>=2.0 in /usr/local/lib/python3.10/dist-packages (from Jinja2>=3.1.2->Flask==3.0.0) (2.1.5)\n",
            "Installing collected packages: pyngrok, blinker, Flask\n",
            "  Attempting uninstall: blinker\n",
            "    Found existing installation: blinker 1.4\n",
            "\u001b[31mERROR: Cannot uninstall 'blinker'. It is a distutils installed project and thus we cannot accurately determine which files belong to it which would lead to only a partial uninstall.\u001b[0m\u001b[31m\n",
            "\u001b[0m"
          ]
        }
      ],
      "source": [
        "#Install Flask and pyngrok\n",
        "!pip install Flask==3.0.0 pyngrok==7.1.2"
      ]
    },
    {
      "cell_type": "code",
      "source": [
        "#Create account in ngrok to access to public URL\n",
        "#https://dashboard.ngrok.com/get-started/your-authtoken\n",
        "#Get ngrok key from ngrok dashboard\n",
        "ngrok_key = \"2fNBNddJMZskWXvhPi2rQAMzNmV_62KF7977wdcqEWTN9VoUc\" #This is different for every user\n",
        "port = 5000"
      ],
      "metadata": {
        "id": "KQYLeffGf9Fu"
      },
      "execution_count": 2,
      "outputs": []
    },
    {
      "cell_type": "code",
      "source": [
        "#Note: Disconnect Runtime and then run the code again, else it will not work.\n",
        "from pyngrok import ngrok\n",
        "#from flask_ngrok import run_with_ngrok\n",
        "from flask import Flask\n",
        "\n",
        "# Initialize Flask app\n",
        "app = Flask(__name__)\n",
        "\n",
        "# Define routes\n",
        "@app.route(\"/\")\n",
        "def home():\n",
        "    return \"<h1>Trail of Flask on Google Colab</h1>\"\n",
        "\n",
        "@app.route('/get_details')\n",
        "def get_details():\n",
        "    return \"<h1>This is the get details page!</h1>\"\n",
        "\n",
        "@app.route('/test')\n",
        "def test_page():\n",
        "    return \"<h2>This is the test page</h2>\"\n",
        "\n",
        "if __name__ == '__main__':\n",
        "    ngrok.set_auth_token(ngrok_key)\n",
        "    ngrok_tunnel = ngrok.connect(5000)\n",
        "    print('Public URL:', ngrok_tunnel.public_url)\n",
        "    app.run()"
      ],
      "metadata": {
        "colab": {
          "base_uri": "https://localhost:8080/"
        },
        "id": "jovpyKMSf_4t",
        "outputId": "24ff6467-373f-486f-eac5-970a7364fac6"
      },
      "execution_count": 3,
      "outputs": [
        {
          "output_type": "stream",
          "name": "stdout",
          "text": [
            "Public URL: https://0917-35-237-139-23.ngrok-free.app\n",
            " * Serving Flask app '__main__'\n",
            " * Debug mode: off\n"
          ]
        },
        {
          "output_type": "stream",
          "name": "stderr",
          "text": [
            "INFO:werkzeug:\u001b[31m\u001b[1mWARNING: This is a development server. Do not use it in a production deployment. Use a production WSGI server instead.\u001b[0m\n",
            " * Running on http://127.0.0.1:5000\n",
            "INFO:werkzeug:\u001b[33mPress CTRL+C to quit\u001b[0m\n",
            "INFO:werkzeug:127.0.0.1 - - [24/Apr/2024 09:48:26] \"GET / HTTP/1.1\" 200 -\n",
            "INFO:werkzeug:127.0.0.1 - - [24/Apr/2024 09:48:26] \"\u001b[33mGET /favicon.ico HTTP/1.1\u001b[0m\" 404 -\n",
            "INFO:werkzeug:127.0.0.1 - - [24/Apr/2024 09:48:38] \"GET /test HTTP/1.1\" 200 -\n",
            "INFO:werkzeug:127.0.0.1 - - [24/Apr/2024 09:48:54] \"GET /get_details HTTP/1.1\" 200 -\n",
            "WARNING:pyngrok.process.ngrok:t=2024-04-24T09:49:00+0000 lvl=warn msg=\"Stopping forwarder\" name=http-5000-1565bfb6-fcb6-469d-aa60-07564e147e75 acceptErr=\"failed to accept connection: Listener closed\"\n",
            "WARNING:pyngrok.process.ngrok:t=2024-04-24T09:49:00+0000 lvl=warn msg=\"Error restarting forwarder\" name=http-5000-1565bfb6-fcb6-469d-aa60-07564e147e75 err=\"failed to start tunnel: session closed\"\n"
          ]
        }
      ]
    }
  ]
}