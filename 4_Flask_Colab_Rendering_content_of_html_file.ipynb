{
  "nbformat": 4,
  "nbformat_minor": 0,
  "metadata": {
    "colab": {
      "provenance": [],
      "authorship_tag": "ABX9TyMTuGBfITq0eybRkJ64k63q",
      "include_colab_link": true
    },
    "kernelspec": {
      "name": "python3",
      "display_name": "Python 3"
    },
    "language_info": {
      "name": "python"
    }
  },
  "cells": [
    {
      "cell_type": "markdown",
      "metadata": {
        "id": "view-in-github",
        "colab_type": "text"
      },
      "source": [
        "<a href=\"https://colab.research.google.com/github/suchitra2020180/Flask_Tutorials/blob/master/4_Flask_Colab_Rendering_content_of_html_file.ipynb\" target=\"_parent\"><img src=\"https://colab.research.google.com/assets/colab-badge.svg\" alt=\"Open In Colab\"/></a>"
      ]
    },
    {
      "cell_type": "code",
      "execution_count": null,
      "metadata": {
        "colab": {
          "base_uri": "https://localhost:8080/"
        },
        "id": "WRE-AsjBiogq",
        "outputId": "afcc4f99-de4c-49e6-a00f-a4c06b4c04d2"
      },
      "outputs": [
        {
          "output_type": "stream",
          "name": "stdout",
          "text": [
            "Collecting Flask==3.0.0\n",
            "  Downloading flask-3.0.0-py3-none-any.whl (99 kB)\n",
            "\u001b[2K     \u001b[90m━━━━━━━━━━━━━━━━━━━━━━━━━━━━━━━━━━━━━━━━\u001b[0m \u001b[32m99.7/99.7 kB\u001b[0m \u001b[31m1.1 MB/s\u001b[0m eta \u001b[36m0:00:00\u001b[0m\n",
            "\u001b[?25hCollecting pyngrok==7.1.2\n",
            "  Downloading pyngrok-7.1.2-py3-none-any.whl (22 kB)\n",
            "Requirement already satisfied: Werkzeug>=3.0.0 in /usr/local/lib/python3.10/dist-packages (from Flask==3.0.0) (3.0.2)\n",
            "Requirement already satisfied: Jinja2>=3.1.2 in /usr/local/lib/python3.10/dist-packages (from Flask==3.0.0) (3.1.3)\n",
            "Requirement already satisfied: itsdangerous>=2.1.2 in /usr/local/lib/python3.10/dist-packages (from Flask==3.0.0) (2.2.0)\n",
            "Requirement already satisfied: click>=8.1.3 in /usr/local/lib/python3.10/dist-packages (from Flask==3.0.0) (8.1.7)\n",
            "Collecting blinker>=1.6.2 (from Flask==3.0.0)\n",
            "  Downloading blinker-1.7.0-py3-none-any.whl (13 kB)\n",
            "Requirement already satisfied: PyYAML>=5.1 in /usr/local/lib/python3.10/dist-packages (from pyngrok==7.1.2) (6.0.1)\n",
            "Requirement already satisfied: MarkupSafe>=2.0 in /usr/local/lib/python3.10/dist-packages (from Jinja2>=3.1.2->Flask==3.0.0) (2.1.5)\n",
            "Installing collected packages: pyngrok, blinker, Flask\n",
            "  Attempting uninstall: blinker\n",
            "    Found existing installation: blinker 1.4\n",
            "\u001b[31mERROR: Cannot uninstall 'blinker'. It is a distutils installed project and thus we cannot accurately determine which files belong to it which would lead to only a partial uninstall.\u001b[0m\u001b[31m\n",
            "\u001b[0m"
          ]
        }
      ],
      "source": [
        "#Install Flask and pyngrok\n",
        "!pip install Flask==3.0.0 pyngrok==7.1.2"
      ]
    },
    {
      "cell_type": "code",
      "source": [
        "#Create account in ngrok to access to public URL\n",
        "#https://dashboard.ngrok.com/get-started/your-authtoken\n",
        "#Get ngrok key from ngrok dashboard\n",
        "ngrok_key = \"your ngrok-key\" #This is different for every user\n",
        "port = 5000"
      ],
      "metadata": {
        "id": "bUbV6a_1izSN"
      },
      "execution_count": null,
      "outputs": []
    },
    {
      "cell_type": "code",
      "source": [
        "from google.colab import drive\n",
        "drive.mount('/content/gdrive')"
      ],
      "metadata": {
        "colab": {
          "base_uri": "https://localhost:8080/"
        },
        "id": "1nocZxx6i2Xs",
        "outputId": "0fd5b035-bfbe-4806-c791-761996b10713"
      },
      "execution_count": null,
      "outputs": [
        {
          "output_type": "stream",
          "name": "stdout",
          "text": [
            "Mounted at /content/gdrive\n"
          ]
        }
      ]
    },
    {
      "cell_type": "markdown",
      "source": [
        "###### For working with html files:\n",
        "1.   To work with different pages, we need a templates folder to save html files. Create a templates folder in google drive\n",
        "2.   Create a home.html file inside templates folder and write content in it\n",
        "manually.\n",
        "3. To manually write in home.html, go to the home.html in colab through gdrive and double click on the home.html file.\n",
        "4. The home.html file will appear at the right side of the colab screen.\n",
        "5. Now write the code.\n",
        "6. Then run next cell."
      ],
      "metadata": {
        "id": "uQN9fW3Ri8Zk"
      }
    },
    {
      "cell_type": "code",
      "source": [
        "#Content in home.html\n",
        "#Copy this code and paste it in home.html in gdrive in colab\n",
        "'''home.html:\n",
        "\n",
        "<!DOCTYPE html>\n",
        "<html lang=\"en\">\n",
        "<head>\n",
        "    <meta charset=\"UTF-8\">\n",
        "    <meta name=\"viewport\" content=\"width=device-width, initial-scale=1.0\">\n",
        "    <title>Home Page</title>\n",
        "</head>\n",
        "<body>\n",
        "    <h1>Welcome to the Home Page!</h1>\n",
        "    <p>This is the home page of our Flask application.</p>\n",
        "</body>\n",
        "</html>'''"
      ],
      "metadata": {
        "id": "eAotlXXhj7gc"
      },
      "execution_count": null,
      "outputs": []
    },
    {
      "cell_type": "code",
      "source": [
        "from flask.templating import render_template\n",
        "from pyngrok import ngrok\n",
        "from flask import Flask\n",
        "\n",
        "\n",
        "template_folder='/content/gdrive/MyDrive/Colab Notebooks/Flask_colab/templates'\n",
        "app = Flask(__name__,template_folder=template_folder)\n",
        "##Write home.html file manually\n",
        "@app.route('/')\n",
        "@app.route('/home')\n",
        "def home():\n",
        "  return render_template('home.html')\n",
        "  #return \"<h1> Welcome to Flask in Colab</h1>\"\n",
        "\n",
        "if __name__=='__main__':\n",
        "  ngrok.set_auth_token(ngrok_key)\n",
        "  ngrok_tunnel=ngrok.connect(port)\n",
        "  print('Public URL:',ngrok_tunnel.public_url)\n",
        "  app.run()"
      ],
      "metadata": {
        "colab": {
          "base_uri": "https://localhost:8080/"
        },
        "id": "FspmyxL-kNRO",
        "outputId": "c81dfee2-e3d4-4c24-f0d0-74f60cb403a8"
      },
      "execution_count": null,
      "outputs": [
        {
          "output_type": "stream",
          "name": "stdout",
          "text": [
            "Public URL: https://bd70-35-237-165-106.ngrok-free.app\n",
            " * Serving Flask app '__main__'\n",
            " * Debug mode: off\n"
          ]
        },
        {
          "output_type": "stream",
          "name": "stderr",
          "text": [
            "INFO:werkzeug:\u001b[31m\u001b[1mWARNING: This is a development server. Do not use it in a production deployment. Use a production WSGI server instead.\u001b[0m\n",
            " * Running on http://127.0.0.1:5000\n",
            "INFO:werkzeug:\u001b[33mPress CTRL+C to quit\u001b[0m\n",
            "INFO:werkzeug:127.0.0.1 - - [24/Apr/2024 10:10:42] \"GET / HTTP/1.1\" 200 -\n",
            "INFO:werkzeug:127.0.0.1 - - [24/Apr/2024 10:10:43] \"\u001b[33mGET /favicon.ico HTTP/1.1\u001b[0m\" 404 -\n"
          ]
        }
      ]
    }
  ]
}